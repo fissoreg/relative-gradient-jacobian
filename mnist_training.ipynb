{
 "cells": [
  {
   "cell_type": "markdown",
   "metadata": {},
   "source": [
    "# MNIST training\n",
    "\n"
   ]
  },
  {
   "cell_type": "code",
   "execution_count": 9,
   "metadata": {},
   "outputs": [],
   "source": [
    "import numpy as onp\n",
    "import jax.numpy as jnp\n",
    "import losses\n",
    "\n",
    "from training import train\n",
    "from custom_activations import smooth_leaky_relu\n",
    "#from tb_logger import tensorboard_decorator\n",
    "from loggers import *\n",
    "from utils import *\n",
    "from datasets.dataloaders import load_dataset"
   ]
  },
  {
   "cell_type": "markdown",
   "metadata": {},
   "source": [
    "### Setting hyperparameters and loading the dataset"
   ]
  },
  {
   "cell_type": "code",
   "execution_count": 12,
   "metadata": {},
   "outputs": [],
   "source": [
    "# hyperparameters\n",
    "seed       = 42\n",
    "num_layers = 2\n",
    "\n",
    "batch_size = 10\n",
    "epochs     = 25\n",
    "\n",
    "lr         = 1e-4\n",
    "\n",
    "bias       = True\n",
    "trick      = True\n",
    "#generate   = True\n",
    "\n",
    "dataset    = \"MNIST\"\n",
    "log_dir    = \"mnist_run/\"\n",
    "\n",
    "alpha      = 0.01\n",
    "activation = lambda x: smooth_leaky_relu(x, alpha=alpha)\n",
    "loss_pdf   = losses.log_pdf_normal\n",
    "\n",
    "# Load dataset\n",
    "train_data, val_data, test_data, transform = load_dataset(dataset)"
   ]
  },
  {
   "cell_type": "markdown",
   "metadata": {},
   "source": [
    "### Model definition\n",
    "\n",
    "A model is specified by its `params` and 3 `g` functions. All the 3 functions perform a forward pass through the model, but with some differences:\n",
    "* `g_dummy` takes 3 arguments: `params`, `dummy_params`, `data`. The `dummy_params` are there only to be able to accumulate the `delta` gradients when needed (refer to Section D of the Supplementary Material).\n",
    "* `g_layerwise` returns the output `z` (the predicted sources) and the activations `ys` for each layer (no non-linearities applied).\n",
    "* `g`: returns `z` only\n",
    "\n",
    "The model constructors are found in `models.py`."
   ]
  },
  {
   "cell_type": "code",
   "execution_count": 8,
   "metadata": {},
   "outputs": [],
   "source": [
    "import models\n",
    "\n",
    "d = train_data.shape[-1] # data dimensionality\n",
    "\n",
    "# model definition ############################################################\n",
    "params, g_dummy, g_layerwise, g = models.g_with_dummies(d, num_layers,\n",
    "                                             activation = activation,\n",
    "                                             seed = seed,\n",
    "                                             batch_size = batch_size,\n",
    "                                             bias = bias)"
   ]
  },
  {
   "cell_type": "markdown",
   "metadata": {},
   "source": [
    "### Loss function and gradient computation"
   ]
  },
  {
   "cell_type": "code",
   "execution_count": 10,
   "metadata": {},
   "outputs": [],
   "source": [
    "# The loss function requires the `g_dummy` model in order to be able to compute\n",
    "# the gradients of the `delta` terms (Section D of the Supplementary Material)\n",
    "\n",
    "loss = losses.get_loss_deltas(g_dummy, loss_pdf, activation = activation)\n",
    "gradient = losses.natural_grad_deltas(loss, activation, bias=bias, trick=trick)\n",
    "\n",
    "# When we use biases, we need to project the gradient on the appropriate submanifold\n",
    "# (refer to Section F of the Supplementary Material)\n",
    "\n",
    "if bias:\n",
    "    gradient = gradient_padding(gradient)\n",
    "    \n",
    "    \n",
    "# Logging loss values and execution time ############################################\n",
    "log_losses_ = losses.losses_logger(loss, loss_pdf, val_data, activation, g_layerwise)\n",
    "\n",
    "loss_vs_time = []\n",
    "\n",
    "def log_loss(params, epoch):\n",
    "    _, v = log_losses_(params, epoch)\n",
    "    l = v[3]\n",
    "    loss_vs_time.append(l)\n",
    "    return \"Loss\", [l]\n",
    "\n",
    "log_time = timer()\n",
    "log_params, get_params = params_getter(params)\n",
    "\n",
    "loggers_list = [log_loss, log_time]"
   ]
  },
  {
   "cell_type": "markdown",
   "metadata": {},
   "source": [
    "## Training"
   ]
  },
  {
   "cell_type": "code",
   "execution_count": 6,
   "metadata": {},
   "outputs": [
    {
     "name": "stdout",
     "output_type": "stream",
     "text": [
      "Epoch 0 [Loss [1404.8104248046875]] [Time [60.657156933040824]] \n",
      "Epoch 1 [Loss [1381.4111328125]] [Time [58.29753472498851]] \n",
      "Epoch 2 [Loss [1374.9918212890625]] [Time [58.91373840399319]] \n",
      "Epoch 3 [Loss [1372.2982177734375]] [Time [59.64869629900204]] \n",
      "Epoch 4 [Loss [1371.12646484375]] [Time [59.480004040000495]] \n",
      "Epoch 5 [Loss [1370.330810546875]] [Time [58.69616854301421]] \n",
      "Epoch 6 [Loss [1369.85205078125]] [Time [58.221025504986756]] \n",
      "Epoch 7 [Loss [1369.617431640625]] [Time [58.67217283899663]] \n",
      "Epoch 8 [Loss [1368.893798828125]] [Time [59.51819232001435]] \n",
      "Epoch 9 [Loss [1368.841796875]] [Time [58.65609293297166]] \n",
      "Epoch 10 [Loss [1368.6226806640625]] [Time [58.873983016994316]] \n",
      "Epoch 11 [Loss [1368.42529296875]] [Time [59.738252012990415]] \n",
      "Epoch 12 [Loss [1368.574951171875]] [Time [59.52137082599802]] \n",
      "Epoch 13 [Loss [1368.4102783203125]] [Time [56.67055111605441]] \n",
      "Epoch 14 [Loss [1368.41943359375]] [Time [57.885606968950015]] \n",
      "Epoch 15 [Loss [1368.22412109375]] [Time [59.27402735204669]] \n",
      "Epoch 16 [Loss [1368.2725830078125]] [Time [59.60896977398079]] \n",
      "Epoch 17 [Loss [1368.701171875]] [Time [58.50166714400984]] \n",
      "Epoch 18 [Loss [1369.190673828125]] [Time [59.28502304799622]] \n",
      "Epoch 19 [Loss [1368.918212890625]] [Time [58.40523395501077]] \n",
      "Epoch 20 [Loss [1368.4415283203125]] [Time [58.46523604996037]] \n",
      "Epoch 21 [Loss [1367.9398193359375]] [Time [59.3193076979951]] \n",
      "Epoch 22 [Loss [1368.39990234375]] [Time [58.36421982903266]] \n",
      "Epoch 23 [Loss [1370.017578125]] [Time [57.7569236769923]] \n",
      "Epoch 24 [Loss [1369.080078125]] [Time [59.772814610973]] \n",
      "Epoch 25 [Loss [1368.4273681640625]] [Time [58.79686041100649]] \n"
     ]
    },
    {
     "data": {
      "text/plain": [
       "0"
      ]
     },
     "execution_count": 6,
     "metadata": {},
     "output_type": "execute_result"
    }
   ],
   "source": [
    "train(params, train_data, gradient,\n",
    "      epochs = epochs,\n",
    "      lr = lr,\n",
    "      batch_size = batch_size,\n",
    "      loggers = loggers_list,\n",
    "      log_every = 1\n",
    "     )"
   ]
  },
  {
   "cell_type": "code",
   "execution_count": 31,
   "metadata": {},
   "outputs": [
    {
     "data": {
      "image/png": "[encoded data removed]",
      "text/plain": [
       "<Figure size 432x288 with 1 Axes>"
      ]
     },
     "metadata": {
      "needs_background": "light"
     },
     "output_type": "display_data"
    }
   ],
   "source": [
    "from matplotlib import pyplot as plt\n",
    "\n",
    "fig, ax = plt.subplots()\n",
    "ax.set_ylabel('-log P(x)', fontsize='xx-large')\n",
    "ax.set_xlabel('Epochs', fontsize='xx-large')\n",
    "plt.plot(loss_vs_time)\n",
    "plt.show()"
   ]
  }
 ],
 "metadata": {
  "kernelspec": {
   "display_name": "Python 3",
   "language": "python",
   "name": "python3"
  },
  "language_info": {
   "codemirror_mode": {
    "name": "ipython",
    "version": 3
   },
   "file_extension": ".py",
   "mimetype": "text/x-python",
   "name": "python",
   "nbconvert_exporter": "python",
   "pygments_lexer": "ipython3",
   "version": "3.8.3"
  }
 },
 "nbformat": 4,
 "nbformat_minor": 2
}
