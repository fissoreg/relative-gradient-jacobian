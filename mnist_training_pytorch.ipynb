{
 "cells": [
  {
   "cell_type": "markdown",
   "metadata": {},
   "source": [
    "# MNIST training example\n",
    "\n",
    "This notebook presents a full commented implementation of the jacobian optimization method introduced in [1][Relative gradient optimization of the Jacobian term in unsupervised deep learning](https://arxiv.org/pdf/2006.15090.pdf)"
   ]
  },
  {
   "cell_type": "markdown",
   "metadata": {},
   "source": [
    "## Imports\n",
    "\n",
    "The method has been implemented using Python and [PyTorch](https://pytorch.org/)."
   ]
  },
  {
   "cell_type": "code",
   "execution_count": 1,
   "metadata": {},
   "outputs": [],
   "source": [
    "import torch               as t\n",
    "import torch.nn            as nn\n",
    "import torch.nn.functional as F\n",
    "import torch.autograd      as ad\n",
    "import torch.optim         as optim\n",
    "\n",
    "import time\n",
    "\n",
    "from utils import shuffle_perm, batchify"
   ]
  },
  {
   "cell_type": "markdown",
   "metadata": {},
   "source": [
    "\n",
    "## Hyperparameters"
   ]
  },
  {
   "cell_type": "code",
   "execution_count": 2,
   "metadata": {},
   "outputs": [],
   "source": [
    "n_layers   = 2\n",
    "lr         = 1e-4\n",
    "n_epochs   = 10\n",
    "batch_size = 10\n",
    "\n",
    "log_every  = 1"
   ]
  },
  {
   "cell_type": "markdown",
   "metadata": {},
   "source": [
    "## Loading the training dataset\n",
    "\n",
    "We load the MNIST training and validation datasets as simple matrices of size NxD where N will usually be the `batch_size` and D = 784 (MNIST flattened dimensionality). As the first dimension is the batch dimension, we assume the samples to be arranged by rows."
   ]
  },
  {
   "cell_type": "code",
   "execution_count": 3,
   "metadata": {},
   "outputs": [],
   "source": [
    "import sys\n",
    "sys.path.append('experiments/')\n",
    "from datasets.dataloaders import load_dataset\n",
    "x, val_data, _, _ = load_dataset(\"MNIST\")\n",
    "\n",
    "x = t.from_numpy(x).float()\n",
    "val_data = t.from_numpy(val_data).float()"
   ]
  },
  {
   "cell_type": "markdown",
   "metadata": {},
   "source": [
    "## Model definition\n",
    "\n",
    "We implement the `smooth_leaky_relu` activation function\n",
    "$s_L(x) = \\alpha x + (1 - \\alpha) \\log (1 + e^x)$ and the `Dense` fully-connected network we use. The need for the intermediate activations and the `delta` terms is detailed in Section 4 of [[1]](https://arxiv.org/pdf/2006.15090.pdf)."
   ]
  },
  {
   "cell_type": "code",
   "execution_count": 4,
   "metadata": {},
   "outputs": [],
   "source": [
    "def smooth_leaky_relu(x, alpha=0.3):\n",
    "    \"\"\"Smoothed version of the leaky relu activation function\n",
    "    Inspiration:\n",
    "    https://stats.stackexchange.com/questions/329776/approximating-leaky-relu-with-a-differentiable-function\n",
    "    \"\"\"\n",
    "    return alpha*x + (1 - alpha)*(t.logaddexp(x, t.zeros(x.shape)))\n",
    "\n",
    "class DenseNet(nn.Module):\n",
    "\n",
    "    def __init__(self, D,\n",
    "                 n_layers=2,\n",
    "                 nonlinearity=smooth_leaky_relu,\n",
    "                 init=nn.init.orthogonal_):\n",
    "\n",
    "        super(DenseNet, self).__init__()\n",
    "\n",
    "        self.nonlinearity = nonlinearity\n",
    "        self.D = D\n",
    "        self.linear_layers = nn.ModuleList()\n",
    "        self.activations = []\n",
    "\n",
    "        for _ in range(n_layers):\n",
    "            layer = nn.Linear(D, D)\n",
    "            init(layer.weight)\n",
    "            nn.init.zeros_(layer.bias)\n",
    "            self.linear_layers.append(layer)\n",
    "\n",
    "    # Forward pass through the network.\n",
    "    # Returns the latent configurations `z` (output)\n",
    "    # and saves the activations at intermediate layers `ys`.\n",
    "    def forward(self, x):\n",
    "\n",
    "        self.activations = []\n",
    "        z = nn.Flatten()(x)\n",
    "\n",
    "        for layer in self.linear_layers[:-1]:\n",
    "            y = layer(z)\n",
    "            self.activations.append(y)\n",
    "            z = self.nonlinearity(y)\n",
    "\n",
    "        # last layer (no nonlinearity)\n",
    "        z = self.linear_layers[-1](z)\n",
    "\n",
    "        # grads of activations/output represent the 'delta' terms\n",
    "        # (the backpropagated error)\n",
    "        for y in self.activations:\n",
    "            y.retain_grad()\n",
    "        z.retain_grad()\n",
    "\n",
    "        return z\n",
    "\n",
    "    def get_activations(self):\n",
    "        return self.activations\n",
    "    \n",
    "D = x.shape[-1]\n",
    "model = DenseNet(D)"
   ]
  },
  {
   "cell_type": "markdown",
   "metadata": {},
   "source": [
    "## Loss function\n",
    "\n",
    "The objective function to optimize is the loglikelihood of our model $\\boldsymbol{L}(\\boldsymbol{x}) = \\log p_{\\boldsymbol{\\theta}}(\\boldsymbol{x})$ that we rewrite as $\\boldsymbol{L}(\\boldsymbol{x}) = \\boldsymbol{L}_p(\\boldsymbol{x}) + \\boldsymbol{L}_J(\\boldsymbol{x})$ with\n",
    "\n",
    "$$\n",
    "\\boldsymbol{L}_p (\\boldsymbol{x}) = \\sum_i \\log p_i(\\boldsymbol{g}^i_{\\boldsymbol{\\theta}}(\\boldsymbol{x})) ; \\enspace \\ \\boldsymbol{L}_J (\\boldsymbol{x}) = \\log \\left|\\det \\boldsymbol{J}\\boldsymbol{g}_{\\boldsymbol{\\theta}}(\\boldsymbol{x})\\right|\\,, \n",
    "$$\n",
    "\n",
    "We further separate $\\boldsymbol{L}_J$ in a \"layerwise\" component $\\boldsymbol{L}_J^1$ depending on the intermediate layers activations $\\boldsymbol{y}_k$ and a component $\\boldsymbol{L}_J^2$ depending on the parameters only\n",
    "\n",
    "$$\n",
    "\\begin{align}\n",
    " \\boldsymbol{L}_J (\\boldsymbol{z}_{k-1}) &= \\sum_{i=1}^D\\log \\left| \\sigma'(y_{k}^{i}) \\right| + \\log \\left| \\det \\boldsymbol{W}_k \\right| \\\\\n",
    "    &=: \\boldsymbol{L}_J^{1}(\\boldsymbol{y}_{k}) + \\boldsymbol{L}_J^{2}(\\boldsymbol{z}_{k-1})\\,.\n",
    "\\end{align}\n",
    "$$\n",
    "\n",
    "The gradient of the $\\boldsymbol{L}_J^2$ term is calculated explicitly and can be computed efficiently by making use of the relative gradient trick (see Section 4 of [[1]](https://arxiv.org/pdf/2006.15090.pdf)). Through automatic differentiation we optimize the latent variables distribution of choice $\\boldsymbol{L}_p$ (a standard Gaussian in this case) and the `loss_layerwise` term $\\boldsymbol{L}_J^1$."
   ]
  },
  {
   "cell_type": "code",
   "execution_count": 5,
   "metadata": {},
   "outputs": [],
   "source": [
    "log_pdf = t.distributions.MultivariateNormal(t.zeros(D), t.eye(D)).log_prob\n",
    "\n",
    "def loss_layerwise(f):\n",
    "    \n",
    "    def g(x):\n",
    "        y = f(x)\n",
    "\n",
    "        # we need to backprop through this computation,\n",
    "        # hence `create_graph=True`;\n",
    "        # also, `grad()` returns a tuple that we need to unpack\n",
    "        dfdx = ad.grad(y, x, t.ones_like(x), create_graph=True)[0]\n",
    "        log_dfdx = t.log(dfdx)\n",
    "\n",
    "        # summing over dimensions\n",
    "        return t.sum(log_dfdx, axis=-1)\n",
    "    \n",
    "    return g\n",
    "\n",
    "def loss(model, x):\n",
    "    z = model(x)\n",
    "    ys = t.stack(model.get_activations())\n",
    "\n",
    "    lpdf = log_pdf(z)\n",
    "    lwise = loss_layerwise(model.nonlinearity)(ys)\n",
    "\n",
    "    # note: we minimize the negative of the LL -> maximize the LL\n",
    "    return - t.mean(lpdf) - t.mean(lwise), z\n",
    "\n",
    "# Function to compute the term L^2_J of the loglikelihood\n",
    "def log_abs_det(model):\n",
    "    p = list(model.parameters())\n",
    "    ldet = sum([t.slogdet(W)[1] for W in p[::2]])\n",
    "\n",
    "    return ldet\n",
    "\n",
    "# Note that here we want to log the full loglikelihood;\n",
    "# during training we directly optimize only the term `lp + l_j^1`\n",
    "# and we include the gradient of the term `l_j^2` explicitly\n",
    "# (i.e. the `loss` function we derive includes only `lp + l_j^1`\n",
    "# and the `l_j^2` term is introduced with `add_det_grad`)\n",
    "def full_loss(model, x):\n",
    "    l1, z = loss(model, x)\n",
    "    l2 = log_abs_det(model)\n",
    "\n",
    "    return l2 - l1"
   ]
  },
  {
   "cell_type": "markdown",
   "metadata": {},
   "source": [
    "## Relative gradient\n",
    "\n",
    "Here we implement the functions to compute the relative gradient, applying the relative trick and taking care of avoiding matrix-matrix multiplications as described in Section 4 of [[1]](https://arxiv.org/pdf/2006.15090.pdf).\n",
    "\n",
    "The core of the computation happens in the `apply_trick` function, where the updates are computed following Appendix F of [[1]](https://arxiv.org/pdf/2006.15090.pdf) to include biases (note that we transposed the update expressions as we are working with row vectors).\n",
    "\n",
    "The `add_det_grad` function completes the gradient updates by including the gradients of the $\\boldsymbol{L}_J^2$ term of the loglikelihood, that we compute explicitly."
   ]
  },
  {
   "cell_type": "code",
   "execution_count": 6,
   "metadata": {},
   "outputs": [],
   "source": [
    "def apply_trick(Wb, z, bp_terms):\n",
    "    W, b = Wb\n",
    "\n",
    "    # note that the nn.Linear layer in PyTorch performs the operation\n",
    "    # `y = xW^T + b`, so here we exchange the transposition to adhere\n",
    "    # to the notation in [1]\n",
    "    W = W.T\n",
    "\n",
    "    db, delta = bp_terms\n",
    "    dW = t.mm(t.mm(W, t.mm(W.T, z.T)), delta) + t.outer(t.mv(W, b), db)\n",
    "    db = db * (1 + t.dot(b, b.T)) + t.mv(delta.T, t.mv(z, t.mv(W, b)))\n",
    "\n",
    "    # back to \"PyTorch notation\"\n",
    "    dW = dW.T\n",
    "\n",
    "    return dW, db\n",
    "\n",
    "def add_det_grad(W):\n",
    "    return W.grad - W\n",
    "\n",
    "def compute_relative_gradient(model, x, z):\n",
    "    layers = model.linear_layers\n",
    "    ys = model.get_activations()\n",
    "\n",
    "    # collecting the backprop errors `deltas`\n",
    "    deltas = [y.grad for y in ys] + [z.grad]\n",
    "\n",
    "    # collecting intermediate activations + nonlinearity\n",
    "    zs = [x] + [model.nonlinearity(y) for y in ys]\n",
    "\n",
    "    for (z, delta, layer) in zip(zs, deltas, layers):\n",
    "\n",
    "        W, b = list(layer.parameters())\n",
    "        dW, db = W.grad, b.grad\n",
    "\n",
    "        dW, db = apply_trick((W, b), z, (db, delta))\n",
    "\n",
    "        # update gradients\n",
    "        W.grad = dW\n",
    "        b.grad = db\n",
    "\n",
    "        dW = add_det_grad(W)\n",
    "\n",
    "        # update gradients\n",
    "        W.grad = dW"
   ]
  },
  {
   "cell_type": "markdown",
   "metadata": {},
   "source": [
    "## Logging\n",
    "\n",
    "Here we define a list of `loggers` to log scalar values. Each logger must be a function taking arguments `model` and `epoch` and must return a tuple: the first element is a string indicating the name of the logged quantity, the second element is the value to log. We define in this way a function `log_loss` to log the loglikelihood on the validation set during training, and a `log_time` function to log the execution time of each epoch."
   ]
  },
  {
   "cell_type": "code",
   "execution_count": 7,
   "metadata": {},
   "outputs": [],
   "source": [
    "def get_loss_logger():\n",
    "    loss_vs_time = []\n",
    "\n",
    "    def log_loss(model, epoch):\n",
    "        val_loss = full_loss(model, val_data)\n",
    "        loss_vs_time.append(val_loss)\n",
    "        return \"Loglikelihood\", val_loss\n",
    "\n",
    "    return log_loss, lambda: loss_vs_time\n",
    "\n",
    "log_loss, get_loss_vs_time = get_loss_logger()\n",
    "\n",
    "def timer():\n",
    "    start = time.perf_counter()\n",
    "\n",
    "    def log_time(model, epoch):\n",
    "        nonlocal start\n",
    "        now = time.perf_counter()\n",
    "        delta = now - start\n",
    "        start = now\n",
    "        return \"Time\", delta\n",
    "\n",
    "    return log_time\n",
    "\n",
    "loggers = [log_loss, timer()]"
   ]
  },
  {
   "cell_type": "markdown",
   "metadata": {},
   "source": [
    "## Training loop with Adam optimizer\n",
    "\n",
    "Here we define a standard training loop using Adam with default parameters. After the backward pass we can use the accumulated gradients to compute the relative gradient of the parameters (using the `compute_relative_gradient` function previously defined)."
   ]
  },
  {
   "cell_type": "code",
   "execution_count": 9,
   "metadata": {},
   "outputs": [
    {
     "name": "stdout",
     "output_type": "stream",
     "text": [
      "Epoch 1 [Loglikelihood -1413.09] [Time 140.73] \n",
      "Epoch 2 [Loglikelihood -1389.43] [Time 95.65] \n",
      "Epoch 3 [Loglikelihood -1384.27] [Time 96.91] \n",
      "Epoch 4 [Loglikelihood -1382.18] [Time 96.52] \n",
      "Epoch 5 [Loglikelihood -1381.01] [Time 98.49] \n",
      "Epoch 6 [Loglikelihood -1380.47] [Time 99.45] \n",
      "Epoch 7 [Loglikelihood -1379.92] [Time 99.15] \n",
      "Epoch 8 [Loglikelihood -1379.70] [Time 99.28] \n",
      "Epoch 9 [Loglikelihood -1379.87] [Time 99.72] \n",
      "Epoch 10 [Loglikelihood -1380.94] [Time 99.37] \n",
      "Epoch 11 [Loglikelihood -1379.88] [Time 99.75] \n",
      "Epoch 12 [Loglikelihood -1380.39] [Time 99.28] \n",
      "Epoch 13 [Loglikelihood -1380.38] [Time 99.68] \n",
      "Epoch 14 [Loglikelihood -1380.10] [Time 99.97] \n",
      "Epoch 15 [Loglikelihood -1380.73] [Time 101.06] \n"
     ]
    }
   ],
   "source": [
    "optimizer = optim.Adam(model.parameters(), lr=lr)\n",
    "\n",
    "for i in range(1, n_epochs + 1):\n",
    "\n",
    "    # TODO: shuffle in-place to reduce memory allocations (first, copy data)\n",
    "    x, _ = shuffle_perm(x)\n",
    "    batches = batchify(x, batch_size)\n",
    "\n",
    "    for batch in batches:\n",
    "\n",
    "        # zero the parameter gradients\n",
    "        optimizer.zero_grad()\n",
    "\n",
    "        l, z = loss(model, batch)\n",
    "        l.backward()\n",
    "\n",
    "        compute_relative_gradient(model, batch, z)\n",
    "\n",
    "        optimizer.step()\n",
    "\n",
    "    if i % log_every == 0:\n",
    "        logs = [log(model, i) for log in loggers]\n",
    "        print(f\"Epoch {i}\", end=\" \")\n",
    "        for log in logs:\n",
    "            print('[%s %.2f]' % (log), end=\" \")\n",
    "        print()"
   ]
  },
  {
   "cell_type": "markdown",
   "metadata": {},
   "source": [
    "## Loglikelihood evolution"
   ]
  },
  {
   "cell_type": "code",
   "execution_count": 10,
   "metadata": {},
   "outputs": [
    {
     "data": {
      "image/png": "[encoded data removed]",
      "text/plain": [
       "<Figure size 432x288 with 1 Axes>"
      ]
     },
     "metadata": {
      "needs_background": "light"
     },
     "output_type": "display_data"
    }
   ],
   "source": [
    "from matplotlib import pyplot as plt\n",
    "\n",
    "fig, ax = plt.subplots()\n",
    "ax.set_ylabel('log P(x)', fontsize='xx-large')\n",
    "ax.set_xlabel('Epochs', fontsize='xx-large')\n",
    "plt.plot(get_loss_vs_time())\n",
    "plt.show()"
   ]
  }
 ],
 "metadata": {
  "kernelspec": {
   "display_name": "Python 3",
   "language": "python",
   "name": "python3"
  },
  "language_info": {
   "codemirror_mode": {
    "name": "ipython",
    "version": 3
   },
   "file_extension": ".py",
   "mimetype": "text/x-python",
   "name": "python",
   "nbconvert_exporter": "python",
   "pygments_lexer": "ipython3",
   "version": "3.9.1"
  }
 },
 "nbformat": 4,
 "nbformat_minor": 4
}
